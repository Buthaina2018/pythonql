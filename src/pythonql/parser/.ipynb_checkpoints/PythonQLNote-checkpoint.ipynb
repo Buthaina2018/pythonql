{
 "cells": [
  {
   "cell_type": "code",
   "execution_count": 1,
   "metadata": {
    "collapsed": true
   },
   "outputs": [],
   "source": [
    "import sys\n",
    "from antlr4 import *\n",
    "from antlr4.tree.Tree import *\n",
    "from CustomLexer import CustomLexer\n",
    "from PythonQLParser import PythonQLParser\n",
    "from functools import reduce"
   ]
  },
  {
   "cell_type": "code",
   "execution_count": 22,
   "metadata": {
    "collapsed": true
   },
   "outputs": [],
   "source": [
    "f = \"../../examples/test1.pql\""
   ]
  },
  {
   "cell_type": "code",
   "execution_count": 53,
   "metadata": {
    "collapsed": true
   },
   "outputs": [],
   "source": [
    "f = \"../../examples/test2.pql\""
   ]
  },
  {
   "cell_type": "code",
   "execution_count": 88,
   "metadata": {
    "collapsed": true
   },
   "outputs": [],
   "source": [
    "f = \"../../examples/test3.pql\""
   ]
  },
  {
   "cell_type": "code",
   "execution_count": 28,
   "metadata": {
    "collapsed": true
   },
   "outputs": [],
   "source": [
    "f = \"../../examples/test4.pql\""
   ]
  },
  {
   "cell_type": "code",
   "execution_count": 70,
   "metadata": {
    "collapsed": true
   },
   "outputs": [],
   "source": [
    "f = \"../../examples/indent.py\""
   ]
  },
  {
   "cell_type": "code",
   "execution_count": 29,
   "metadata": {
    "collapsed": false
   },
   "outputs": [],
   "source": [
    "inputStream = FileStream(f)\n",
    "lexer = CustomLexer(inputStream)\n",
    "stream = CommonTokenStream(lexer)\n",
    "parser = PythonQLParser(stream)\n",
    "tree = parser.file_input()"
   ]
  },
  {
   "cell_type": "code",
   "execution_count": 4,
   "metadata": {
    "collapsed": true
   },
   "outputs": [],
   "source": [
    "def printSubTree(tree,indent=''):\n",
    "    if isinstance(tree,TerminalNodeImpl):\n",
    "        print (\"%s'%s'\\n\" % (indent,tree.getText()))\n",
    "    else:\n",
    "        print (\"%s%s\\n\" % (indent,parser.ruleNames[tree.getRuleIndex()]))\n",
    "        for c in tree.children:\n",
    "            printSubTree(c,indent+\"  \")"
   ]
  },
  {
   "cell_type": "code",
   "execution_count": 5,
   "metadata": {
    "collapsed": true
   },
   "outputs": [],
   "source": [
    "class MyToken(TerminalNodeImpl):\n",
    "    def __init__(self,text):\n",
    "        self.text = text\n",
    "    def getText(self):\n",
    "        return self.text"
   ]
  },
  {
   "cell_type": "code",
   "execution_count": 6,
   "metadata": {
    "collapsed": true
   },
   "outputs": [],
   "source": [
    "def get_text(terms):\n",
    "    return [t.getText() for t in terms]"
   ]
  },
  {
   "cell_type": "code",
   "execution_count": 7,
   "metadata": {
    "collapsed": true
   },
   "outputs": [],
   "source": [
    "def isPathExpression(tree):\n",
    "    if isinstance(tree,TerminalNodeImpl):\n",
    "        return False\n",
    "    return tree.getRuleIndex()==parser.RULE_test and len(tree.children)>1"
   ]
  },
  {
   "cell_type": "code",
   "execution_count": 8,
   "metadata": {
    "collapsed": true
   },
   "outputs": [],
   "source": [
    "def isQuery(tree):\n",
    "    if isinstance(tree,TerminalNodeImpl):\n",
    "        return False\n",
    "    return tree.getRuleIndex()==parser.RULE_query_expression"
   ]
  },
  {
   "cell_type": "code",
   "execution_count": 9,
   "metadata": {
    "collapsed": false
   },
   "outputs": [],
   "source": [
    "def get_all_terminals(tree):\n",
    "    if isinstance(tree,TerminalNodeImpl):\n",
    "        return [tree]\n",
    "    if isPathExpression(tree):\n",
    "        return get_path_expression_terminals(tree)\n",
    "    elif isQuery(tree):\n",
    "        return get_query_terminals(tree)\n",
    "    else:\n",
    "        children = []\n",
    "        if tree.children:\n",
    "            children = reduce( lambda x,y: x+y, [get_all_terminals(c) for c in tree.children])\n",
    "        return children"
   ]
  },
  {
   "cell_type": "code",
   "execution_count": 10,
   "metadata": {
    "collapsed": true
   },
   "outputs": [],
   "source": [
    "def getText(tree):\n",
    "    if isinstance(tree,TerminalNodeImpl):\n",
    "        return tree.getText()\n",
    "    else:\n",
    "        res = \"\"\n",
    "        for c in tree.children:\n",
    "            res += getText(c)\n",
    "        return res"
   ]
  },
  {
   "cell_type": "code",
   "execution_count": 11,
   "metadata": {
    "collapsed": true
   },
   "outputs": [],
   "source": [
    "def isChildStep(tree):\n",
    "    return tree.getRuleIndex()==parser.RULE_path_step and tree.children[0].getRuleIndex()==parser.RULE_child_path_step"
   ]
  },
  {
   "cell_type": "code",
   "execution_count": 12,
   "metadata": {
    "collapsed": true
   },
   "outputs": [],
   "source": [
    "def isDescStep(tree):\n",
    "    return tree.getRuleIndex()==parser.RULE_path_step and tree.children[0].getRuleIndex()==parser.RULE_desc_path_step"
   ]
  },
  {
   "cell_type": "code",
   "execution_count": 13,
   "metadata": {
    "collapsed": true
   },
   "outputs": [],
   "source": [
    "def isPredStep(tree):\n",
    "    return tree.getRuleIndex()==parser.RULE_path_step and tree.children[0].getRuleIndex()==parser.RULE_pred_path_step"
   ]
  },
  {
   "cell_type": "code",
   "execution_count": 14,
   "metadata": {
    "collapsed": true
   },
   "outputs": [],
   "source": [
    "def mk_tok(items):\n",
    "    if isinstance(items,list):\n",
    "        res = []\n",
    "        for i in items:\n",
    "            if isinstance(i,str):\n",
    "                res.append(MyToken(i))\n",
    "            elif isinstance(i,list):\n",
    "                res += i\n",
    "            else:\n",
    "                res.append(i)\n",
    "        return res\n",
    "    else:\n",
    "        return [MyToken(items)]"
   ]
  },
  {
   "cell_type": "code",
   "execution_count": null,
   "metadata": {
    "collapsed": true
   },
   "outputs": [],
   "source": [
    "    "
   ]
  },
  {
   "cell_type": "code",
   "execution_count": 15,
   "metadata": {
    "collapsed": false
   },
   "outputs": [],
   "source": [
    "def get_path_expression_terminals(tree):\n",
    "    children = tree.children\n",
    "    #printSubTree(tree)\n",
    "    #print(\"N children:\",len(tree.children))\n",
    "    \n",
    "    baseExpr = children[0]\n",
    "    result = get_all_terminals(baseExpr)\n",
    "    \n",
    "    for c in children[1:]:\n",
    "        if isChildStep(c):\n",
    "            result = mk_tok([ \"child_path\", \"(\", result, \")\" ])\n",
    "        elif isDescStep(c):\n",
    "            result = mk_tok([ \"desc_path\", \"(\", result, \")\"])\n",
    "        elif isPredStep(c):\n",
    "            condition = mk_tok([ '\"\"\"', get_all_terminals(c)[1:-1], '\"\"\"'])\n",
    "            result = mk_tok([ \"pred_path\", \"(\", result, \",\", condition, \")\"])\n",
    "    \n",
    "    return result"
   ]
  },
  {
   "cell_type": "code",
   "execution_count": 16,
   "metadata": {
    "collapsed": true
   },
   "outputs": [],
   "source": [
    "def ruleType(tree,t):\n",
    "    if isinstance(tree,TerminalNodeImpl):\n",
    "        return False\n",
    "    return tree.getRuleIndex()==t"
   ]
  },
  {
   "cell_type": "code",
   "execution_count": 17,
   "metadata": {
    "collapsed": true
   },
   "outputs": [],
   "source": [
    "def process_select_clause(tree):\n",
    "    sel_vars = [t for t in tree.children[1].children if ruleType(t,parser.RULE_selectvar)]\n",
    "    res = []\n",
    "    for sv in sel_vars:\n",
    "        v = sv.children[0]\n",
    "        if v.getRuleIndex()==parser.RULE_selectvar_star:\n",
    "            res.append( mk_tok([\"(\", \"'*'\", \"None\", \")\"]) )\n",
    "        else:\n",
    "            value_toks = mk_tok(['\"\"\"',get_all_terminals(v),'\"\"\"'])\n",
    "            if len(v.children)==1:\n",
    "                res.append(mk_tok([\"(\", value_toks, \",\", \"None\",\")\"]))\n",
    "            else:\n",
    "                value = v.children[0]\n",
    "                alias = v.children[2]\n",
    "                alias_toks = mk_tok(['\"\"\"',get_all_terminals(alias),'\"\"\"'])\n",
    "                res.append(mk_tok([\"(\", value_toks, \",\", alias_toks,\")\"]))\n",
    "    res = reduce(lambda x,y: x + mk_tok([\",\"]) + y, res)\n",
    "    return mk_tok([\"[\", res, \"]\"])"
   ]
  },
  {
   "cell_type": "code",
   "execution_count": 18,
   "metadata": {
    "collapsed": false
   },
   "outputs": [],
   "source": [
    "def process_from_clause(tree):\n",
    "    clauses = [c for c in tree.children if ruleType(c,parser.RULE_from_clause_entry)]\n",
    "    res = []\n",
    "    for cl in clauses:\n",
    "        variable = '\"'+getText(cl.children[0])+'\"'\n",
    "        type_of_access = '\"'+getText(cl.children[1])+'\"'\n",
    "        expression = get_all_terminals(cl.children[2])\n",
    "        res.append( mk_tok([\"(\", variable, \",\", type_of_access, \",\", '\"\"\"', expression, '\"\"\"',\")\"]) )\n",
    "    res = reduce(lambda x,y: x + mk_tok([\",\"]) + y, res)\n",
    "    return mk_tok([\"[\", res, \"]\"])"
   ]
  },
  {
   "cell_type": "code",
   "execution_count": 19,
   "metadata": {
    "collapsed": false
   },
   "outputs": [],
   "source": [
    "def process_orderby_clause(tree):\n",
    "    res = []\n",
    "    orderlist = tree.children[2]\n",
    "    elements = [el for el in orderlist.children if ruleType(el,parser.RULE_orderlist_el)]\n",
    "    for e in elements:\n",
    "        ascdesc = \"asc\" if len(e.children)==1 else getText(e.children[1])\n",
    "        ascdesc = '\"'+ascdesc+'\"'\n",
    "        res.append(mk_tok([\"(\", '\"\"\"',get_all_terminals(e.children[0]),'\"\"\"',\",\", ascdesc, \")\"]))\n",
    "    res = reduce(lambda x,y: x + mk_tok([\",\"]) + y, res)\n",
    "    return mk_tok([\"[\",res,\"]\"])"
   ]
  },
  {
   "cell_type": "code",
   "execution_count": 20,
   "metadata": {
    "collapsed": true
   },
   "outputs": [],
   "source": [
    "def process_groupby_clause(tree):\n",
    "    res = []\n",
    "    groupby_list = tree.children[2]\n",
    "    for e in [e for e in groupby_list.children if ruleType(e,parser.RULE_group_by_var)]:\n",
    "        res.append(mk_tok(['\"',getText(e),'\"']))\n",
    "    res = reduce(lambda x,y: x + mk_tok([\",\"]) + y, res)\n",
    "    return mk_tok([\"[\",res,\"]\"])"
   ]
  },
  {
   "cell_type": "code",
   "execution_count": 32,
   "metadata": {
    "collapsed": true
   },
   "outputs": [],
   "source": [
    "def process_where_clause(tree):\n",
    "    return mk_tok(['\"\"\"', get_all_terminals(tree.children[1]),'\"\"\"']) "
   ]
  },
  {
   "cell_type": "code",
   "execution_count": 26,
   "metadata": {
    "collapsed": false
   },
   "outputs": [],
   "source": [
    "def get_query_terminals(tree):\n",
    "    empty_list = mk_tok([\"[]\"])\n",
    "    children = tree.children\n",
    "    select_cl = children[0]\n",
    "    from_cl = children[1]\n",
    "    orderby_cl = next((c for c in children if c.getRuleIndex()==parser.RULE_order_by_clause),None)\n",
    "    groupby_cl = next((c for c in children if c.getRuleIndex()==parser.RULE_group_by_clause),None)\n",
    "    where_cl = next((c for c in children if c.getRuleIndex()==parser.RULE_where_clause),None)\n",
    "    \n",
    "    result = []\n",
    "    select_tokens = process_select_clause(select_cl)\n",
    "    from_tokens = process_from_clause(from_cl)\n",
    "    orderby_tokens = empty_list if not orderby_cl else process_orderby_clause(orderby_cl)\n",
    "    groupby_tokens = empty_list if not groupby_cl else process_groupby_clause(groupby_cl)\n",
    "    where_tokens = mk_tok([\"None\"]) if not where_cl else process_where_clause(where_cl)\n",
    "    return mk_tok([\"PyQuery\", \"(\", \n",
    "                    select_tokens,\",\",\n",
    "                    from_tokens,\",\",\n",
    "                    groupby_tokens,\",\",\n",
    "                    orderby_tokens,\",\",\n",
    "                    where_tokens,\")\"])"
   ]
  },
  {
   "cell_type": "code",
   "execution_count": 23,
   "metadata": {
    "collapsed": true
   },
   "outputs": [],
   "source": [
    "def makeIndent(i):\n",
    "    return \"  \"*(2*i)\n",
    "\n",
    "def all_ws(t):\n",
    "    return all([x==' ' for x in t])\n",
    "\n",
    "def printProgram(tokens):\n",
    "    indent = 0\n",
    "    buffer = \"\"\n",
    "    for t in tokens:\n",
    "        if buffer!=\"\":\n",
    "            if t==' ' or t=='\\n':\n",
    "                print(buffer)\n",
    "                buffer = \"\"\n",
    "            else:\n",
    "                buffer += t + \" \"\n",
    "        else:\n",
    "            if t==' ':\n",
    "                indent = indent -1\n",
    "            elif t=='\\n':\n",
    "                indent -= 1\n",
    "                indent = indent if indent>=0 else 0\n",
    "            elif all_ws(t):\n",
    "                indent = len(t)//2\n",
    "            else:\n",
    "                buffer = makeIndent(indent)\n",
    "                buffer += t + \" \""
   ]
  },
  {
   "cell_type": "code",
   "execution_count": 83,
   "metadata": {
    "collapsed": true
   },
   "outputs": [
    {
     "data": {
      "text/plain": [
       "[<antlr4.tree.Tree.TerminalNodeImpl at 0x104483cf8>,\n",
       " <antlr4.tree.Tree.TerminalNodeImpl at 0x104487710>,\n",
       " <antlr4.tree.Tree.TerminalNodeImpl at 0x104483080>,\n",
       " <antlr4.tree.Tree.TerminalNodeImpl at 0x1044be198>,\n",
       " <antlr4.tree.Tree.TerminalNodeImpl at 0x1044beef0>,\n",
       " <antlr4.tree.Tree.TerminalNodeImpl at 0x1044be908>,\n",
       " <antlr4.tree.Tree.TerminalNodeImpl at 0x1044be550>,\n",
       " <antlr4.tree.Tree.TerminalNodeImpl at 0x1044be400>,\n",
       " <antlr4.tree.Tree.TerminalNodeImpl at 0x104496080>,\n",
       " <antlr4.tree.Tree.TerminalNodeImpl at 0x104496860>,\n",
       " <antlr4.tree.Tree.TerminalNodeImpl at 0x1044967f0>,\n",
       " <antlr4.tree.Tree.TerminalNodeImpl at 0x1044961d0>,\n",
       " <antlr4.tree.Tree.TerminalNodeImpl at 0x1044962b0>,\n",
       " <antlr4.tree.Tree.TerminalNodeImpl at 0x104496518>,\n",
       " <antlr4.tree.Tree.TerminalNodeImpl at 0x104496a58>,\n",
       " <antlr4.tree.Tree.TerminalNodeImpl at 0x1044969b0>,\n",
       " <antlr4.tree.Tree.TerminalNodeImpl at 0x1044875c0>,\n",
       " <antlr4.tree.Tree.TerminalNodeImpl at 0x104487358>,\n",
       " <antlr4.tree.Tree.TerminalNodeImpl at 0x106a6d0f0>,\n",
       " <antlr4.tree.Tree.TerminalNodeImpl at 0x106a6d048>,\n",
       " <antlr4.tree.Tree.TerminalNodeImpl at 0x106a6d390>,\n",
       " <antlr4.tree.Tree.TerminalNodeImpl at 0x106a6db38>,\n",
       " <antlr4.tree.Tree.TerminalNodeImpl at 0x106a6d5f8>,\n",
       " <antlr4.tree.Tree.TerminalNodeImpl at 0x1044b3320>,\n",
       " <__main__.MyToken at 0x1044a43c8>,\n",
       " <__main__.MyToken at 0x1044a4ba8>,\n",
       " <__main__.MyToken at 0x1065b4240>,\n",
       " <__main__.MyToken at 0x1065b4550>,\n",
       " <__main__.MyToken at 0x1065b4a90>,\n",
       " <antlr4.tree.Tree.TerminalNodeImpl at 0x1044b3e10>,\n",
       " <__main__.MyToken at 0x1065b4da0>,\n",
       " <__main__.MyToken at 0x1065b4470>,\n",
       " <__main__.MyToken at 0x1065b41d0>,\n",
       " <__main__.MyToken at 0x1065b4438>,\n",
       " <__main__.MyToken at 0x1065b4ba8>,\n",
       " <__main__.MyToken at 0x1065b4b00>,\n",
       " <__main__.MyToken at 0x1065b49e8>,\n",
       " <antlr4.tree.Tree.TerminalNodeImpl at 0x1044b3f98>,\n",
       " <antlr4.tree.Tree.TerminalNodeImpl at 0x1044b34a8>,\n",
       " <antlr4.tree.Tree.TerminalNodeImpl at 0x1044b9a58>,\n",
       " <__main__.MyToken at 0x1065b4710>,\n",
       " <__main__.MyToken at 0x1065b4b70>,\n",
       " <__main__.MyToken at 0x1065b4d68>,\n",
       " <__main__.MyToken at 0x1065b4f28>,\n",
       " <__main__.MyToken at 0x1065b4f98>,\n",
       " <__main__.MyToken at 0x1044a4c18>,\n",
       " <__main__.MyToken at 0x1065b46a0>,\n",
       " <__main__.MyToken at 0x1065b4828>,\n",
       " <__main__.MyToken at 0x1065b4d30>,\n",
       " <__main__.MyToken at 0x1065b4668>,\n",
       " <__main__.MyToken at 0x1065b4eb8>,\n",
       " <__main__.MyToken at 0x1065b43c8>,\n",
       " <__main__.MyToken at 0x1065b4fd0>,\n",
       " <__main__.MyToken at 0x1065b44a8>,\n",
       " <__main__.MyToken at 0x1065b46d8>,\n",
       " <antlr4.tree.Tree.TerminalNodeImpl at 0x1044b9080>,\n",
       " <__main__.MyToken at 0x1065db160>,\n",
       " <__main__.MyToken at 0x1065db6d8>,\n",
       " <__main__.MyToken at 0x1065dbe80>,\n",
       " <__main__.MyToken at 0x1065db8d0>,\n",
       " <antlr4.tree.Tree.TerminalNodeImpl at 0x1044b9a90>,\n",
       " <__main__.MyToken at 0x1065db5f8>,\n",
       " <__main__.MyToken at 0x1065db1d0>,\n",
       " <__main__.MyToken at 0x1065db6a0>,\n",
       " <antlr4.tree.Tree.TerminalNodeImpl at 0x106a76fd0>,\n",
       " <antlr4.tree.Tree.TerminalNodeImpl at 0x106a76208>,\n",
       " <antlr4.tree.Tree.TerminalNodeImpl at 0x106a76358>,\n",
       " <__main__.MyToken at 0x1065db940>,\n",
       " <__main__.MyToken at 0x1065db208>,\n",
       " <antlr4.tree.Tree.TerminalNodeImpl at 0x106a762e8>,\n",
       " <__main__.MyToken at 0x1065b4208>,\n",
       " <__main__.MyToken at 0x1065b4358>,\n",
       " <__main__.MyToken at 0x1065b4518>,\n",
       " <__main__.MyToken at 0x1065db0f0>,\n",
       " <__main__.MyToken at 0x1065b4748>,\n",
       " <__main__.MyToken at 0x1065b45c0>,\n",
       " <__main__.MyToken at 0x1065dbeb8>,\n",
       " <__main__.MyToken at 0x1065db390>,\n",
       " <__main__.MyToken at 0x1065db550>,\n",
       " <__main__.MyToken at 0x1065db400>,\n",
       " <antlr4.tree.Tree.TerminalNodeImpl at 0x106a76d30>,\n",
       " <__main__.MyToken at 0x1065dbfd0>,\n",
       " <__main__.MyToken at 0x1065db748>,\n",
       " <__main__.MyToken at 0x1065dbcc0>,\n",
       " <__main__.MyToken at 0x1044a4e48>,\n",
       " <__main__.MyToken at 0x1065db908>,\n",
       " <__main__.MyToken at 0x1065dbc88>,\n",
       " <__main__.MyToken at 0x1065db358>,\n",
       " <antlr4.tree.Tree.TerminalNodeImpl at 0x106a766d8>,\n",
       " <__main__.MyToken at 0x1065db048>,\n",
       " <__main__.MyToken at 0x1065db5c0>,\n",
       " <__main__.MyToken at 0x1065dbf60>,\n",
       " <__main__.MyToken at 0x1044c6d68>,\n",
       " <__main__.MyToken at 0x1044a49b0>,\n",
       " <__main__.MyToken at 0x1044c62b0>,\n",
       " <__main__.MyToken at 0x1044c68d0>,\n",
       " <antlr4.tree.Tree.TerminalNodeImpl at 0x106a7e5c0>,\n",
       " <__main__.MyToken at 0x1044c6b70>,\n",
       " <__main__.MyToken at 0x1044c6a58>,\n",
       " <__main__.MyToken at 0x1044a4518>,\n",
       " <__main__.MyToken at 0x1044a40b8>,\n",
       " <__main__.MyToken at 0x1044a4e80>,\n",
       " <__main__.MyToken at 0x1065d3be0>,\n",
       " None,\n",
       " <__main__.MyToken at 0x1065d3978>,\n",
       " <__main__.MyToken at 0x1044a4128>,\n",
       " <antlr4.tree.Tree.TerminalNodeImpl at 0x106a7e208>,\n",
       " <antlr4.tree.Tree.TerminalNodeImpl at 0x106a7e358>,\n",
       " <antlr4.tree.Tree.TerminalNodeImpl at 0x106a7ed68>,\n",
       " <antlr4.tree.Tree.TerminalNodeImpl at 0x106a7e4a8>,\n",
       " <antlr4.tree.Tree.TerminalNodeImpl at 0x1044bf198>,\n",
       " <__main__.MyToken at 0x1044a42e8>,\n",
       " <__main__.MyToken at 0x1065d3320>,\n",
       " <antlr4.tree.Tree.TerminalNodeImpl at 0x1044bf160>,\n",
       " <antlr4.tree.Tree.TerminalNodeImpl at 0x1044bf5c0>,\n",
       " <antlr4.tree.Tree.TerminalNodeImpl at 0x1044bfcc0>,\n",
       " <antlr4.tree.Tree.TerminalNodeImpl at 0x1044bfba8>,\n",
       " <antlr4.tree.Tree.TerminalNodeImpl at 0x1044bfbe0>,\n",
       " <antlr4.tree.Tree.TerminalNodeImpl at 0x1044bf5f8>,\n",
       " <antlr4.tree.Tree.TerminalNodeImpl at 0x1044c9eb8>,\n",
       " <antlr4.tree.Tree.TerminalNodeImpl at 0x1044c9b00>,\n",
       " <__main__.MyToken at 0x1065e1828>,\n",
       " <__main__.MyToken at 0x1065cbe80>,\n",
       " <__main__.MyToken at 0x1065e1278>,\n",
       " <__main__.MyToken at 0x1065e1940>,\n",
       " <antlr4.tree.Tree.TerminalNodeImpl at 0x1044c9860>,\n",
       " <__main__.MyToken at 0x1065e1f28>,\n",
       " <__main__.MyToken at 0x1065cb208>,\n",
       " <__main__.MyToken at 0x1065e1f60>,\n",
       " <antlr4.tree.Tree.TerminalNodeImpl at 0x1044c9630>,\n",
       " <antlr4.tree.Tree.TerminalNodeImpl at 0x1044c9320>,\n",
       " <antlr4.tree.Tree.TerminalNodeImpl at 0x1044bde80>,\n",
       " <__main__.MyToken at 0x1065e1e80>,\n",
       " <__main__.MyToken at 0x1065cb940>,\n",
       " <antlr4.tree.Tree.TerminalNodeImpl at 0x1044b5550>,\n",
       " <antlr4.tree.Tree.TerminalNodeImpl at 0x1044c9e48>,\n",
       " <antlr4.tree.Tree.TerminalNodeImpl at 0x1044b5e10>,\n",
       " <antlr4.tree.Tree.TerminalNodeImpl at 0x1044b59b0>,\n",
       " <antlr4.tree.Tree.TerminalNodeImpl at 0x1044b5198>,\n",
       " <antlr4.tree.Tree.TerminalNodeImpl at 0x1044bdc18>,\n",
       " <antlr4.tree.Tree.TerminalNodeImpl at 0x1044b5f28>,\n",
       " <antlr4.tree.Tree.TerminalNodeImpl at 0x1044c7828>,\n",
       " <antlr4.tree.Tree.TerminalNodeImpl at 0x1044b5b38>,\n",
       " <antlr4.tree.Tree.TerminalNodeImpl at 0x1044c7f98>,\n",
       " <antlr4.tree.Tree.TerminalNodeImpl at 0x1044c75f8>,\n",
       " <antlr4.tree.Tree.TerminalNodeImpl at 0x1044c70f0>,\n",
       " <antlr4.tree.Tree.TerminalNodeImpl at 0x1044c7da0>,\n",
       " <antlr4.tree.Tree.TerminalNodeImpl at 0x1044c7048>,\n",
       " <antlr4.tree.Tree.TerminalNodeImpl at 0x1044c7518>,\n",
       " <antlr4.tree.Tree.TerminalNodeImpl at 0x106596710>,\n",
       " <antlr4.tree.Tree.TerminalNodeImpl at 0x1066758d0>,\n",
       " <antlr4.tree.Tree.TerminalNodeImpl at 0x1065d3eb8>,\n",
       " <antlr4.tree.Tree.TerminalNodeImpl at 0x1065d33c8>,\n",
       " <antlr4.tree.Tree.TerminalNodeImpl at 0x1065d32e8>,\n",
       " <antlr4.tree.Tree.TerminalNodeImpl at 0x1065d3748>,\n",
       " <antlr4.tree.Tree.TerminalNodeImpl at 0x1065d3d68>,\n",
       " <antlr4.tree.Tree.TerminalNodeImpl at 0x1065d3b70>]"
      ]
     },
     "execution_count": 83,
     "metadata": {},
     "output_type": "execute_result"
    }
   ],
   "source": [
    "get_all_terminals(tree)"
   ]
  },
  {
   "cell_type": "code",
   "execution_count": 31,
   "metadata": {
    "collapsed": false
   },
   "outputs": [
    {
     "data": {
      "text/plain": [
       "['x',\n",
       " '=',\n",
       " '[',\n",
       " '1',\n",
       " ',',\n",
       " '2',\n",
       " ',',\n",
       " '3',\n",
       " ',',\n",
       " '4',\n",
       " ',',\n",
       " '5',\n",
       " ']',\n",
       " '\\n',\n",
       " 'y',\n",
       " '=',\n",
       " '[',\n",
       " '6',\n",
       " ',',\n",
       " '7',\n",
       " ',',\n",
       " '8',\n",
       " ',',\n",
       " '9',\n",
       " ',',\n",
       " '10',\n",
       " ']',\n",
       " '\\n',\n",
       " '(',\n",
       " 'PyQuery',\n",
       " '(',\n",
       " '[',\n",
       " '(',\n",
       " '\"\"\"',\n",
       " 'z',\n",
       " '\"\"\"',\n",
       " ',',\n",
       " 'None',\n",
       " ')',\n",
       " ']',\n",
       " ',',\n",
       " '[',\n",
       " '(',\n",
       " '\"z\"',\n",
       " ',',\n",
       " '\"in\"',\n",
       " ',',\n",
       " '\"\"\"',\n",
       " 'x',\n",
       " '\"\"\"',\n",
       " ')',\n",
       " ',',\n",
       " '(',\n",
       " '\"w\"',\n",
       " ',',\n",
       " '\"in\"',\n",
       " ',',\n",
       " '\"\"\"',\n",
       " 'y',\n",
       " '\"\"\"',\n",
       " ')',\n",
       " ']',\n",
       " ',',\n",
       " '[]',\n",
       " ',',\n",
       " '[]',\n",
       " ',',\n",
       " '\"\"\"',\n",
       " 'z',\n",
       " '%',\n",
       " '2',\n",
       " '==',\n",
       " '0',\n",
       " '\"\"\"\"',\n",
       " ')',\n",
       " ')',\n",
       " '\\n',\n",
       " '<EOF>']"
      ]
     },
     "execution_count": 31,
     "metadata": {},
     "output_type": "execute_result"
    }
   ],
   "source": [
    "get_text(get_all_terminals(tree))"
   ]
  },
  {
   "cell_type": "code",
   "execution_count": 33,
   "metadata": {
    "collapsed": false
   },
   "outputs": [
    {
     "name": "stdout",
     "output_type": "stream",
     "text": [
      "x = [ 1 , 2 , 3 , 4 , 5 ] \n",
      "y = [ 6 , 7 , 8 , 9 , 10 ] \n",
      "( PyQuery ( [ ( \"\"\" z \"\"\" , None ) ] , [ ( \"z\" , \"in\" , \"\"\" x \"\"\" ) , ( \"w\" , \"in\" , \"\"\" y \"\"\" ) ] , [] , [] , \"\"\" z % 2 == 0 \"\"\" ) ) \n"
     ]
    }
   ],
   "source": [
    "printProgram(get_text(get_all_terminals(tree)))"
   ]
  },
  {
   "cell_type": "code",
   "execution_count": null,
   "metadata": {
    "collapsed": true
   },
   "outputs": [],
   "source": []
  }
 ],
 "metadata": {
  "kernelspec": {
   "display_name": "Python 3",
   "language": "python",
   "name": "python3"
  },
  "language_info": {
   "codemirror_mode": {
    "name": "ipython",
    "version": 3
   },
   "file_extension": ".py",
   "mimetype": "text/x-python",
   "name": "python",
   "nbconvert_exporter": "python",
   "pygments_lexer": "ipython3",
   "version": "3.4.1"
  }
 },
 "nbformat": 4,
 "nbformat_minor": 0
}
